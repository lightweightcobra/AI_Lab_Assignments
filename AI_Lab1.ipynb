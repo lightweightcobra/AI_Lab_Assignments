{
  "cells": [
    {
      "cell_type": "code",
      "execution_count": null,
      "metadata": {
        "id": "FBLuxrnEZNxf"
      },
      "outputs": [],
      "source": [
        "import numpy as np\n",
        "import sys\n",
        "from time import time"
      ]
    },
    {
      "cell_type": "code",
      "execution_count": null,
      "metadata": {
        "id": "HHv-TixQZNxg"
      },
      "outputs": [],
      "source": [
        "class Node:\n",
        "    def __init__(self, parent, state, pcost, hcost):\n",
        "\n",
        "        self.parent = parent\n",
        "        self.state = state\n",
        "        self.pcost = pcost\n",
        "        self.hcost = hcost\n",
        "        self.cost = pcost + hcost\n",
        "\n",
        "    def __hash__(self):\n",
        "\n",
        "        return hash(''.join(self.state.flatten()))\n",
        "\n",
        "    def __str__(self):\n",
        "        return str(self.state)\n",
        "\n",
        "    def __eq__(self, other):\n",
        "\n",
        "        return hash(''.join(self.state.flatten())) == hash(''.join(other.state.flatten()))\n",
        "\n",
        "    def __ne__(self, other):\n",
        "        return hash(''.join(self.state.flatten())) != hash(''.join(other.state.flatten()))"
      ]
    },
    {
      "cell_type": "markdown",
      "metadata": {
        "id": "Ddld5Fr2ZNxg"
      },
      "source": [
        "## PriorityQueue\n",
        "The Priority Queue is used to store the nodes along with the cost, and pop the node having the least cost for BFS\n",
        "\n",
        "It makes use of the following functions:\n",
        "1. push : Add node to queue\n",
        "2. pop : Pop node having least cost\n",
        "3. is_empty : To check if queue is empty\n",
        "4. \\_\\_len\\_\\_ : To get length of queue\n",
        "5. \\_\\_str\\_\\_ : To get string representation of queue"
      ]
    },
    {
      "cell_type": "code",
      "execution_count": null,
      "metadata": {
        "id": "wuGNHcfxZNxg"
      },
      "outputs": [],
      "source": [
        "class PriorityQueue():\n",
        "\n",
        "    def __init__(self):\n",
        "        self.queue = []\n",
        "\n",
        "    def push(self, node):\n",
        "        self.queue.append(node)\n",
        "\n",
        "    def pop(self):\n",
        "\n",
        "        next_state = None\n",
        "        state_cost = 10**18\n",
        "        index = -1\n",
        "\n",
        "        for i in range(len(self.queue)):\n",
        "\n",
        "            if self.queue[i].cost<state_cost:\n",
        "                state_cost = self.queue[i].cost\n",
        "                index = i\n",
        "\n",
        "        return self.queue.pop(index)\n",
        "\n",
        "    def is_empty(self):\n",
        "\n",
        "        return len(self.queue)==0\n",
        "\n",
        "    def __str__(self):\n",
        "        l = []\n",
        "        for i in self.queue:\n",
        "            l.append(i.state)\n",
        "\n",
        "        return str(l)\n",
        "\n",
        "    def __len__(self):\n",
        "        return len(self.queue)\n",
        ""
      ]
    },
    {
      "cell_type": "code",
      "execution_count": null,
      "metadata": {
        "id": "Js73vqwYZNxg"
      },
      "outputs": [],
      "source": [
        "class Environment():\n",
        "\n",
        "    def __init__(self, depth = None, goal_state = None):\n",
        "        self.actions = [1,2,3,4] #1 - Up, 2 - Down, 3 - Right, 4 - Left\n",
        "        self.goal_state = goal_state\n",
        "        self.depth = depth\n",
        "        self.start_state = self.generate_start_state()\n",
        "\n",
        "    def generate_start_state(self):\n",
        "\n",
        "        past_state = self.goal_state\n",
        "        i=0\n",
        "        while i!= self.depth:\n",
        "            new_states = self.get_next_states(past_state)\n",
        "            choice = np.random.randint(low=0, high=len(new_states))\n",
        "\n",
        "            if np.array_equal(new_states[choice], past_state):\n",
        "                continue\n",
        "\n",
        "            past_state = new_states[choice]\n",
        "            i+=1\n",
        "\n",
        "        return past_state\n",
        "\n",
        "    def get_start_state(self):\n",
        "        return self.start_state\n",
        "\n",
        "    def get_goal_state(self):\n",
        "        return self.goal_state\n",
        "\n",
        "    def get_next_states(self, state):\n",
        "\n",
        "        space = (0,0)\n",
        "        for i in range(3):\n",
        "            for j in range(3):\n",
        "                if state[i,j] == '_':\n",
        "                    space = (i,j)\n",
        "                    break\n",
        "\n",
        "        new_states = []\n",
        "\n",
        "        if space[0] > 0:# Move Up\n",
        "            new_state = np.copy(state)\n",
        "\n",
        "            val = new_state[space[0], space[1]]\n",
        "            new_state[space[0], space[1]]  = new_state[space[0]-1, space[1]]\n",
        "            new_state[space[0]-1, space[1]] = val\n",
        "\n",
        "            new_states.append(new_state)\n",
        "\n",
        "        if space[0] < 2: #Move down\n",
        "            new_state = np.copy(state)\n",
        "\n",
        "            val = new_state[space[0], space[1]]\n",
        "            new_state[space[0], space[1]]  = new_state[space[0]+1, space[1]]\n",
        "            new_state[space[0]+1, space[1]] = val\n",
        "\n",
        "            new_states.append(new_state)\n",
        "\n",
        "        if space[1]<2: #Move right\n",
        "            new_state = np.copy(state)\n",
        "\n",
        "            val = new_state[space[0], space[1]]\n",
        "            new_state[space[0], space[1]] = new_state[space[0], space[1]+1]\n",
        "            new_state[space[0], space[1]+1] = val\n",
        "\n",
        "            new_states.append(new_state)\n",
        "\n",
        "        if space[1] > 0: #Move Left\n",
        "            new_state = np.copy(state)\n",
        "\n",
        "            val = new_state[space[0], space[1]]\n",
        "            new_state[space[0], space[1]] = new_state[space[0], space[1]-1]\n",
        "            new_state[space[0], space[1]-1] = val\n",
        "\n",
        "            new_states.append(new_state)\n",
        "\n",
        "        return new_states\n",
        "\n",
        "    def reached_goal(self, state):\n",
        "\n",
        "        for i in range(3):\n",
        "            for j in range(3):\n",
        "                if state[i,j] != self.goal_state[i,j]:\n",
        "                    return False\n",
        "\n",
        "        return True"
      ]
    },
    {
      "cell_type": "code",
      "execution_count": null,
      "metadata": {
        "id": "h3dCdFDcZNxg"
      },
      "outputs": [],
      "source": [
        "from queue import PriorityQueue\n",
        "\n",
        "class Agent:\n",
        "    def __init__(self, env, heuristic):\n",
        "        self.frontier = PriorityQueue()\n",
        "        self.explored = dict()\n",
        "        self.start_state = env.get_start_state()\n",
        "        self.goal_state = env.get_goal_state()\n",
        "        self.env = env\n",
        "        self.goal_node = None\n",
        "        self.heuristic = heuristic\n",
        "\n",
        "    def run(self):\n",
        "        init_node = Node(parent=None, state=self.start_state, pcost=0, hcost=0)\n",
        "        self.frontier.put(init_node)\n",
        "        steps = 0\n",
        "        while not self.frontier.empty():\n",
        "            curr_node = self.frontier.get()\n",
        "            next_states = self.env.get_next_states(curr_node.state)\n",
        "\n",
        "            if hash(curr_node) in self.explored:\n",
        "                continue\n",
        "\n",
        "            self.explored[hash(curr_node)] = curr_node\n",
        "\n",
        "            if self.env.reached_goal(curr_node.state):\n",
        "                self.goal_node = curr_node\n",
        "                break\n",
        "\n",
        "            goal_state = self.env.get_goal_state()\n",
        "\n",
        "            for state in next_states:\n",
        "                hcost = self.heuristic(state, goal_state)\n",
        "                node = Node(parent=curr_node, state=state, pcost=curr_node.pcost + 1, hcost=hcost)\n",
        "                self.frontier.put(node)\n",
        "            steps += 1\n",
        "\n",
        "        return steps, self.soln_depth()\n",
        "\n",
        "    def soln_depth(self):\n",
        "        node = self.goal_node\n",
        "        count = 0\n",
        "        while node is not None:\n",
        "            node = node.parent\n",
        "            count += 1\n",
        "        return count\n",
        "\n",
        "    def print_nodes(self):\n",
        "        node = self.goal_node\n",
        "        nodes_list = []\n",
        "        while node is not None:\n",
        "            nodes_list.append(node)\n",
        "            node = node.parent\n",
        "\n",
        "        step = 1\n",
        "        for node in nodes_list[::-1]:\n",
        "            print(\"Step:\", step)\n",
        "            print(node)\n",
        "            step += 1\n",
        "\n",
        "    def get_memory(self):\n",
        "        mem = self.frontier.qsize() * 56 + len(self.explored) * 56\n",
        "        return mem"
      ]
    },
    {
      "cell_type": "markdown",
      "metadata": {
        "id": "rUbCKGllZNxg"
      },
      "source": [
        "Since the environment cannot spawn its own start and end states, we input the start state and end state to the environment"
      ]
    },
    {
      "cell_type": "markdown",
      "metadata": {
        "id": "Po1XKEE1ZNxg"
      },
      "source": [
        "### Heuristic 0\n",
        "This is a null heuristic, returns 0 for any state. Essentially uniform cost search."
      ]
    },
    {
      "cell_type": "code",
      "execution_count": null,
      "metadata": {
        "id": "XUGNL-kMZNxh"
      },
      "outputs": [],
      "source": [
        "def heuristic0(curr_state, goal_state):\n",
        "    return 0"
      ]
    },
    {
      "cell_type": "markdown",
      "metadata": {
        "id": "bw6PTtT5ZNxh"
      },
      "source": [
        "### Heuristic 1\n",
        "\n",
        "This heuristic counts the number of misplaced tiles"
      ]
    },
    {
      "cell_type": "code",
      "execution_count": null,
      "metadata": {
        "id": "GTXRUmcrZNxh"
      },
      "outputs": [],
      "source": [
        "def heuristic1(curr_state, goal_state):\n",
        "\n",
        "    count = 0\n",
        "    for i in range(3):\n",
        "        for j in range(3):\n",
        "            if curr_state[i, j]!=goal_state[i,j]:\n",
        "                count+=1\n",
        "\n",
        "    return count"
      ]
    },
    {
      "cell_type": "markdown",
      "metadata": {
        "id": "8lGFdenMZNxh"
      },
      "source": [
        "### Heuristic 2\n",
        "\n",
        "This is the manhattan distance, it returns the sum of the horizontal and vertical distances of the all marble in current state from center."
      ]
    },
    {
      "cell_type": "code",
      "execution_count": null,
      "metadata": {
        "id": "smxz1UZzZNxh"
      },
      "outputs": [],
      "source": [
        "def heuristic2(curr_state, goal_state):\n",
        "\n",
        "    dist = 0\n",
        "\n",
        "    for i in range(3):\n",
        "        for j in range(3):\n",
        "            ele = curr_state[i, j]\n",
        "            goal_i, goal_j = np.where(goal_state==ele)\n",
        "            d = abs(goal_i[0] - i) + abs(goal_j[0] - j)\n",
        "            dist += d\n",
        "\n",
        "    return dist"
      ]
    },
    {
      "cell_type": "code",
      "execution_count": null,
      "metadata": {
        "id": "V9eCaPNJZNxh",
        "outputId": "3a070486-b116-47b6-d54c-5196dbc83b34"
      },
      "outputs": [
        {
          "name": "stdout",
          "output_type": "stream",
          "text": [
            "Start State: \n",
            "[['2' '8' '3']\n",
            " ['6' '_' '4']\n",
            " ['5' '1' '7']]\n",
            "Goal State: \n",
            "[['1' '2' '3']\n",
            " ['8' '_' '4']\n",
            " ['7' '6' '5']]\n"
          ]
        }
      ],
      "source": [
        "depth = 500\n",
        "goal_state = np.array([[1,2,3], [8,'_',4], [7,6,5]])\n",
        "env = Environment(depth, goal_state)\n",
        "print(\"Start State: \")\n",
        "print(env.get_start_state())\n",
        "print(\"Goal State: \")\n",
        "print(goal_state)"
      ]
    },
    {
      "cell_type": "code",
      "execution_count": null,
      "metadata": {
        "id": "Dk7PBysPZNxh"
      },
      "outputs": [],
      "source": [
        "agent = Agent(env = env, heuristic = heuristic2)"
      ]
    },
    {
      "cell_type": "code",
      "execution_count": null,
      "metadata": {
        "id": "zALtpfhZZNxh",
        "outputId": "5234ad67-1ad6-4e7c-b9a2-1a7c256369cb"
      },
      "outputs": [
        {
          "data": {
            "text/plain": [
              "(284, 19)"
            ]
          },
          "execution_count": 11,
          "metadata": {},
          "output_type": "execute_result"
        }
      ],
      "source": [
        "agent.run()"
      ]
    },
    {
      "cell_type": "code",
      "execution_count": null,
      "metadata": {
        "id": "-MHvE61BZNxh",
        "outputId": "cf3b8436-d618-42bb-ff3b-49cce42e6716"
      },
      "outputs": [
        {
          "name": "stdout",
          "output_type": "stream",
          "text": [
            "0 0.0001175832748413086 56.0\n",
            "50 0.062335538864135745 15208.48\n",
            "100 0.17607250690460205 37699.2\n",
            "150 0.8281965398788452 103038.88\n",
            "200 0.7005016040802002 100705.92\n",
            "250 0.5602542448043824 91827.68\n",
            "300 1.707741904258728 175056.0\n",
            "350 0.7300944328308105 110492.48\n",
            "400 1.3042884254455567 135346.4\n",
            "450 1.0080248785018922 121304.96\n",
            "500 1.1396568250656127 125048.0\n"
          ]
        }
      ],
      "source": [
        "depths = np.arange(0,501,50)\n",
        "goal_state = np.array([[1,2,3], [8,'_',4], [7,6,5]])\n",
        "times_taken = {}\n",
        "mems = {}\n",
        "for depth in depths:\n",
        "\n",
        "    time_taken = 0\n",
        "    mem = 0\n",
        "    for i in range(50):\n",
        "        env = Environment(depth=depth, goal_state=goal_state)\n",
        "        agent = Agent(env = env, heuristic = heuristic2)\n",
        "        start_time = time()\n",
        "        agent.run()\n",
        "        end_time = time()\n",
        "        time_taken+=end_time - start_time\n",
        "        mem+=agent.get_memory()\n",
        "\n",
        "    time_taken/=50\n",
        "    mem = mem/50\n",
        "    times_taken[depth] = time_taken\n",
        "    mems[depth] = mem\n",
        "    print(depth, time_taken, mem)\n",
        "\n",
        "\n",
        ""
      ]
    },
    {
      "cell_type": "code",
      "execution_count": null,
      "metadata": {
        "id": "grOLiQqKZNxh"
      },
      "outputs": [],
      "source": []
    }
  ],
  "metadata": {
    "kernelspec": {
      "display_name": "Python 3",
      "language": "python",
      "name": "python3"
    },
    "language_info": {
      "codemirror_mode": {
        "name": "ipython",
        "version": 3
      },
      "file_extension": ".py",
      "mimetype": "text/x-python",
      "name": "python",
      "nbconvert_exporter": "python",
      "pygments_lexer": "ipython3",
      "version": "3.8.5"
    },
    "colab": {
      "provenance": []
    }
  },
  "nbformat": 4,
  "nbformat_minor": 0
}